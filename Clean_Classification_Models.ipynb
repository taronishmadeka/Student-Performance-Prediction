{
 "cells": [
  {
   "cell_type": "code",
   "execution_count": 1,
   "metadata": {},
   "outputs": [
    {
     "name": "stderr",
     "output_type": "stream",
     "text": [
      "Using TensorFlow backend.\n"
     ]
    }
   ],
   "source": [
    "import numpy as np\n",
    "import pandas as pd\n",
    "from sklearn import preprocessing\n",
    "from tensorflow import keras\n",
    "import matplotlib.pyplot as plt\n",
    "from keras.models import Sequential\n",
    "from keras import optimizers\n",
    "import keras.utils as ker\n",
    "import numpy as np\n",
    "from sklearn.model_selection import train_test_split\n",
    "from sklearn.linear_model import LogisticRegression\n",
    "from keras.models import Sequential\n",
    "from keras.layers import Dense, InputLayer, Flatten, Dropout\n",
    "import tensorflow as tf\n",
    "from sklearn.metrics import classification_report, confusion_matrix, accuracy_score, roc_auc_score, roc_curve, precision_score, recall_score, accuracy_score, f1_score\n",
    "from sklearn.tree import DecisionTreeClassifier\n",
    "from sklearn.model_selection import GridSearchCV\n",
    "from sklearn.ensemble import RandomForestClassifier\n",
    "from sklearn.svm import LinearSVC, SVC"
   ]
  },
  {
   "cell_type": "markdown",
   "metadata": {},
   "source": [
    "## Encoding Categorical Dataset"
   ]
  },
  {
   "cell_type": "code",
   "execution_count": 2,
   "metadata": {},
   "outputs": [
    {
     "name": "stdout",
     "output_type": "stream",
     "text": [
      "\n"
     ]
    }
   ],
   "source": [
    "## Read data from csv file 'student-mat.csv'\n",
    "math_data = pd.read_csv('student-mat.csv', sep=';')\n",
    "\n",
    "## Read data from csv file 'student-por.csv'\n",
    "por_data = pd.read_csv('student-por.csv', sep=';')\n",
    "\n",
    "## Two datasets are similar except for the final 4 columns.\n",
    "## Rename different columns.\n",
    "math_data = math_data.rename(columns= {'absences': 'm_absences',\n",
    "                                       'G1': 'M1',\n",
    "                                       'G2': 'M2',\n",
    "                                       'G3': 'M3'})\n",
    "por_data = por_data.rename(columns= {'absences': 'p_absences',\n",
    "                                       'G1': 'P1',\n",
    "                                       'G2': 'P2',\n",
    "                                       'G3': 'P3'})\n",
    "\n",
    "\n",
    "## Missing data check. \n",
    "math_missing_data = math_data.isnull().sum()\n",
    "## No missing data in math_data.\n",
    "print()\n",
    "por_missing_data = por_data.isnull().sum()\n",
    "## No missing data in por_data\n",
    "\n",
    "\n",
    "## Label Encode Sex. 0 = female, 1 = male\n",
    "le_math = preprocessing.LabelEncoder()\n",
    "le_math.fit(math_data['sex'])\n",
    "math_sex_array = le_math.transform(math_data['sex'])\n",
    "math_data['sex'] = math_sex_array\n",
    "le_por = preprocessing.LabelEncoder()\n",
    "le_por.fit(por_data['sex'])\n",
    "por_sex_array = le_por.transform(por_data['sex'])\n",
    "por_data['sex'] = por_sex_array\n",
    "\n",
    "\n",
    "## Label Encode Parental Status. 0 = apart 1 = together \n",
    "le_math_Pstatus = preprocessing.LabelEncoder()\n",
    "le_math_Pstatus.fit(math_data['Pstatus'])\n",
    "math_Pstatus_array = le_math_Pstatus.transform(math_data['Pstatus'])\n",
    "math_data['Pstatus'] = math_Pstatus_array\n",
    "le_por_Pstatus = preprocessing.LabelEncoder()\n",
    "le_por_Pstatus.fit(por_data['Pstatus'])\n",
    "por_Pstatus_array = le_por_Pstatus.transform(por_data['Pstatus'])\n",
    "por_data['Pstatus'] = por_Pstatus_array\n",
    "\n",
    "\n",
    "## Label Encode Address (Urban or Rural). 1 = Urban 0 = Rural \n",
    "le_math_address = preprocessing.LabelEncoder()\n",
    "le_math_address.fit(math_data['address'])\n",
    "math_address_array = le_math_address.transform(math_data['address'])\n",
    "math_data['address'] = math_address_array\n",
    "le_por_address = preprocessing.LabelEncoder()\n",
    "le_por_address.fit(por_data['address'])\n",
    "por_address_array = le_por_address.transform(por_data['address'])\n",
    "por_data['address'] = por_address_array\n",
    "\n",
    "\n",
    "## Label Encode schoolsup (extra educational support) 1 = yes, 0 = no.\n",
    "le_math_schoolsup = preprocessing.LabelEncoder()\n",
    "le_math_schoolsup.fit(math_data['schoolsup'])\n",
    "math_schoolsup_array = le_math_schoolsup.transform(math_data['schoolsup'])\n",
    "math_data['schoolsup'] = math_schoolsup_array\n",
    "le_por_schoolsup = preprocessing.LabelEncoder()\n",
    "le_por_schoolsup.fit(por_data['schoolsup'])\n",
    "por_schoolsup_array = le_por_schoolsup.transform(por_data['schoolsup'])\n",
    "por_data['schoolsup'] = por_schoolsup_array\n",
    "\n",
    "\n",
    "## Label Encode famsup (Family Support) 1 = yes, 0 = no\n",
    "le_math_famsup = preprocessing.LabelEncoder()\n",
    "le_math_famsup.fit(math_data['famsup'])\n",
    "math_famsup_array = le_math_famsup.transform(math_data['famsup'])\n",
    "math_data['famsup'] = math_famsup_array\n",
    "le_por_famsup = preprocessing.LabelEncoder()\n",
    "le_por_famsup.fit(por_data['famsup'])\n",
    "por_famsup_array = le_por_famsup.transform(por_data['famsup'])\n",
    "por_data['famsup'] = por_famsup_array\n",
    "\n",
    "\n",
    "## Label Encode paid (extra paid classes within the course subject (Math or Portuguese)) 1 = yes, 0 = no\n",
    "le_math_paid = preprocessing.LabelEncoder()\n",
    "le_math_paid.fit(math_data['paid'])\n",
    "math_paid_array = le_math_paid.transform(math_data['paid'])\n",
    "math_data['paid'] = math_paid_array\n",
    "le_por_paid= preprocessing.LabelEncoder()\n",
    "le_por_paid.fit(por_data['paid'])\n",
    "por_paid_array = le_por_paid.transform(por_data['paid'])\n",
    "por_data['paid'] = por_paid_array\n",
    "\n",
    "\n",
    "## Label Encode activities (extra-curricular activities) 1 = yes, 0 = no\n",
    "le_math_activities = preprocessing.LabelEncoder()\n",
    "le_math_activities.fit(math_data['activities'])\n",
    "math_activities_array = le_math_activities.transform(math_data['activities'])\n",
    "math_data['activities'] = math_activities_array\n",
    "le_por_activities= preprocessing.LabelEncoder()\n",
    "le_por_activities.fit(por_data['activities'])\n",
    "por_activities_array = le_por_activities.transform(por_data['activities'])\n",
    "por_data['activities'] = por_activities_array\n",
    "\n",
    "\n",
    "## Label Encode nursery (attended nursery school) 1 = yes, 0 = no\n",
    "le_math_nursery = preprocessing.LabelEncoder()\n",
    "le_math_nursery.fit(math_data['nursery'])\n",
    "math_nursery_array = le_math_nursery.transform(math_data['nursery'])\n",
    "math_data['nursery'] = math_nursery_array\n",
    "le_por_nursery= preprocessing.LabelEncoder()\n",
    "le_por_nursery.fit(por_data['nursery'])\n",
    "por_nursery_array = le_por_nursery.transform(por_data['nursery'])\n",
    "por_data['nursery'] = por_nursery_array\n",
    "\n",
    "\n",
    "## Label Encode higher (wants to take higher education) 1 = yes, 0 = no\n",
    "le_math_higher = preprocessing.LabelEncoder()\n",
    "le_math_higher.fit(math_data['higher'])\n",
    "math_higher_array = le_math_higher.transform(math_data['higher'])\n",
    "math_data['higher'] = math_higher_array\n",
    "le_por_higher= preprocessing.LabelEncoder()\n",
    "le_por_higher.fit(por_data['higher'])\n",
    "por_higher_array = le_por_higher.transform(por_data['higher'])\n",
    "por_data['higher'] = por_higher_array\n",
    "\n",
    "\n",
    "## Label Encode internet (Internet access at home) 1 = yes, 2 = no\n",
    "le_math_internet = preprocessing.LabelEncoder()\n",
    "le_math_internet.fit(math_data['internet'])\n",
    "math_internet_array = le_math_internet.transform(math_data['internet'])\n",
    "math_data['internet'] = math_internet_array\n",
    "le_por_internet= preprocessing.LabelEncoder()\n",
    "le_por_internet.fit(por_data['internet'])\n",
    "por_internet_array = le_por_internet.transform(por_data['internet'])\n",
    "por_data['internet'] = por_internet_array\n",
    "\n",
    "\n",
    "## Label Encode romantic (in a romantic relationship) 1 = yes, 2 = no\n",
    "le_math_romantic = preprocessing.LabelEncoder()\n",
    "le_math_romantic.fit(math_data['romantic'])\n",
    "math_romantic_array = le_math_romantic.transform(math_data['romantic'])\n",
    "math_data['romantic'] = math_romantic_array\n",
    "le_por_romantic= preprocessing.LabelEncoder()\n",
    "le_por_romantic.fit(por_data['romantic'])\n",
    "por_romantic_array = le_por_romantic.transform(por_data['romantic'])\n",
    "por_data['romantic'] = por_romantic_array\n",
    "\n",
    "## Saving the new encoded datset as a CSV\n",
    "export_math = math_data.to_csv('encoded_math_data.csv')\n",
    "export_por = por_data.to_csv('encoded_por_data.csv')"
   ]
  },
  {
   "cell_type": "markdown",
   "metadata": {},
   "source": [
    "## Math - Data Prep"
   ]
  },
  {
   "cell_type": "code",
   "execution_count": 3,
   "metadata": {},
   "outputs": [],
   "source": [
    "## Read data from csv file with encoded data.\n",
    "math_data = pd.read_csv('encoded_math_data.csv')\n",
    "\n",
    "## Encoding Schools \n",
    "list_of_schools = []\n",
    "for i in math_data['school']:\n",
    "    if i == 'GP':\n",
    "        school = 1\n",
    "    else:\n",
    "        school = 0\n",
    "    list_of_schools.append(school)\n",
    "\n",
    "math_data['school'] = list_of_schools\n",
    "\n",
    "## One-hot encoding binary variables. \n",
    "\n",
    "school_one_hot = ker.to_categorical(math_data['school']).tolist()\n",
    "sex_one_hot = ker.to_categorical(math_data['sex']).tolist()\n",
    "address_one_hot = ker.to_categorical(math_data['address']).tolist()\n",
    "pstatus_one_hot = ker.to_categorical(math_data['Pstatus']).tolist()\n",
    "fedu_one_hot = ker.to_categorical(math_data['Fedu']).tolist()\n",
    "medu_one_hot = ker.to_categorical(math_data['Medu']).tolist()\n",
    "schoolsup_one_hot = ker.to_categorical(math_data['schoolsup']).tolist()\n",
    "famsup_one_hot = ker.to_categorical(math_data['famsup']).tolist()\n",
    "paid_one_hot = ker.to_categorical(math_data['paid']).tolist()\n",
    "activities_one_hot = ker.to_categorical(math_data['activities']).tolist()\n",
    "nursery_one_hot = ker.to_categorical(math_data['nursery']).tolist()\n",
    "higher_one_hot = ker.to_categorical(math_data['higher']).tolist()\n",
    "internet_one_hot = ker.to_categorical(math_data['internet']).tolist()\n",
    "romantic_one_hot = ker.to_categorical(math_data['romantic']).tolist()\n",
    "\n",
    "## Adding one-hot vectors to df\n",
    "math_data['school_one_hot'] = school_one_hot\n",
    "math_data['sex_one_hot'] = sex_one_hot\n",
    "math_data['address_one_hot'] = address_one_hot\n",
    "math_data['pstatus_one_hot'] = pstatus_one_hot\n",
    "math_data['fedu_one_hot'] = fedu_one_hot\n",
    "math_data['medu_one_hot'] = medu_one_hot\n",
    "math_data['schoolsup_one_hot'] = schoolsup_one_hot\n",
    "math_data['famsup_one_hot'] = famsup_one_hot\n",
    "math_data['paid_one_hot'] = paid_one_hot\n",
    "math_data['activities_one_hot'] = activities_one_hot\n",
    "math_data['nursery_one_hot'] = nursery_one_hot\n",
    "math_data['higher_one_hot'] = higher_one_hot\n",
    "math_data['internet_one_hot'] = internet_one_hot\n",
    "math_data['romantic_one_hot'] = romantic_one_hot\n",
    "\n",
    "# Creating a new binary variable - 1 if student failed first grading period\n",
    "previous_grade_list = []\n",
    "for i in math_data['M1']:\n",
    "    if i < 9.5: # Fail\n",
    "        label = 1\n",
    "    else: # Pass\n",
    "        label = 0\n",
    "    previous_grade_list.append(label)\n",
    "math_data['previous_pass_fail'] = previous_grade_list\n",
    "\n",
    "## Creating a new binary variable - 1 if both parents attended university. \n",
    "both_parents_college_list = []\n",
    "for i in range(0, len(math_data)):\n",
    "    if (math_data['Fedu'][i] == 4) & (math_data['Medu'][i] == 4):\n",
    "        x = 1\n",
    "    else:\n",
    "        x = 0\n",
    "    both_parents_college_list.append(x)\n",
    "math_data['both_parents_college'] = both_parents_college_list\n",
    "\n",
    "## Creating labels - Pass(0) or Fail(1)\n",
    "list_of_labels = []\n",
    "for i in math_data['M3']:\n",
    "    if i < 9.5: # Fail\n",
    "        label = 1\n",
    "    else: # Pass\n",
    "        label = 0\n",
    "    list_of_labels.append(label)\n",
    "math_data['label'] = list_of_labels\n",
    "\n",
    "\n",
    "## Creating input vector (X)\n",
    "X = []\n",
    "for i in range(0, len(math_data)):\n",
    "    x = []\n",
    "#    x.append(math_data['age'][i])\n",
    "    x.append(math_data['Medu'][i])\n",
    "    x.append(math_data['Fedu'][i])\n",
    "#    x.append(math_data['both_parents_college'][i])\n",
    "#    x.append(math_data['studytime'][i])\n",
    "#    x.append(math_data['famrel'][i])\n",
    "#    x.append(math_data['freetime'][i])\n",
    "    x.append(math_data['goout'][i])\n",
    "    x.append(math_data['Dalc'][i])\n",
    "    x.append(math_data['Walc'][i])\n",
    "#    x.append(math_data['health'][i])\n",
    "#    x.append(math_data['m_absences'][i])\n",
    "    x.append(math_data['failures'][i])\n",
    "    \n",
    "#    x.extend(math_data['sex_one_hot'][i])\n",
    "#    x.extend(math_data['address_one_hot'][i])\n",
    "#    x.extend(math_data['pstatus_one_hot'][i])\n",
    "#    x.extend(math_data['schoolsup_one_hot'][i])\n",
    "#    x.extend(math_data['famsup_one_hot'][i])\n",
    "    x.extend(math_data['paid_one_hot'][i])\n",
    "#    x.extend(math_data['activities_one_hot'][i])\n",
    "#    x.extend(math_data['nursery_one_hot'][i])\n",
    "#    x.extend(math_data['school_one_hot'][i])\n",
    "    x.extend(math_data['higher_one_hot'][i])\n",
    "    x.extend(math_data['internet_one_hot'][i])\n",
    "    x.extend(math_data['romantic_one_hot'][i])\n",
    "    x.append(math_data['previous_pass_fail'][i])\n",
    "    x.append(math_data['M1'][i])\n",
    "    X.append(x)\n",
    "\n",
    "Y = np.array(list_of_labels)\n",
    "X = np.array(X)\n",
    "\n",
    "## split dataset into train-test .\n",
    "X_train, X_test, y_train, y_test = train_test_split(X, Y, random_state=321, test_size=0.25, stratify=Y)"
   ]
  },
  {
   "cell_type": "markdown",
   "metadata": {},
   "source": [
    "## Math - Modeling"
   ]
  },
  {
   "cell_type": "code",
   "execution_count": 4,
   "metadata": {},
   "outputs": [
    {
     "name": "stdout",
     "output_type": "stream",
     "text": [
      "WARNING:tensorflow:From /opt/conda/lib/python3.7/site-packages/tensorflow_core/python/ops/resource_variable_ops.py:1628: calling BaseResourceVariable.__init__ (from tensorflow.python.ops.resource_variable_ops) with constraint is deprecated and will be removed in a future version.\n",
      "Instructions for updating:\n",
      "If using Keras pass *_constraint arguments to layers.\n",
      "WARNING:tensorflow:From /opt/conda/lib/python3.7/site-packages/tensorflow_core/python/ops/nn_impl.py:183: where (from tensorflow.python.ops.array_ops) is deprecated and will be removed in a future version.\n",
      "Instructions for updating:\n",
      "Use tf.where in 2.0, which has the same broadcast rule as np.where\n",
      "Model: \"sequential\"\n",
      "_________________________________________________________________\n",
      "Layer (type)                 Output Shape              Param #   \n",
      "=================================================================\n",
      "dense (Dense)                (None, 128)               2176      \n",
      "_________________________________________________________________\n",
      "dense_1 (Dense)              (None, 128)               16512     \n",
      "_________________________________________________________________\n",
      "dense_2 (Dense)              (None, 1)                 129       \n",
      "=================================================================\n",
      "Total params: 18,817\n",
      "Trainable params: 18,817\n",
      "Non-trainable params: 0\n",
      "_________________________________________________________________\n",
      "WARNING:tensorflow:From /opt/conda/lib/python3.7/site-packages/tensorflow_core/python/keras/optimizer_v2/optimizer_v2.py:460: BaseResourceVariable.constraint (from tensorflow.python.ops.resource_variable_ops) is deprecated and will be removed in a future version.\n",
      "Instructions for updating:\n",
      "Apply a constraint manually following the optimizer update step.\n",
      "Train on 266 samples, validate on 30 samples\n",
      "Epoch 1/36\n",
      "266/266 [==============================] - 1s 2ms/sample - loss: 0.5669 - val_loss: 0.6976\n",
      "Epoch 2/36\n",
      "266/266 [==============================] - 0s 2ms/sample - loss: 0.4211 - val_loss: 0.3809\n",
      "Epoch 3/36\n",
      "266/266 [==============================] - 0s 2ms/sample - loss: 0.4036 - val_loss: 0.3232\n",
      "Epoch 4/36\n",
      "266/266 [==============================] - 0s 2ms/sample - loss: 0.3867 - val_loss: 0.2980\n",
      "Epoch 5/36\n",
      "266/266 [==============================] - 0s 2ms/sample - loss: 0.3659 - val_loss: 0.3633\n",
      "Epoch 6/36\n",
      "266/266 [==============================] - 0s 2ms/sample - loss: 0.3715 - val_loss: 0.2570\n",
      "Epoch 7/36\n",
      "266/266 [==============================] - 0s 2ms/sample - loss: 0.3735 - val_loss: 0.3351\n",
      "Epoch 8/36\n",
      "266/266 [==============================] - 0s 2ms/sample - loss: 0.3718 - val_loss: 0.2628\n",
      "Epoch 9/36\n",
      "266/266 [==============================] - 0s 2ms/sample - loss: 0.3420 - val_loss: 0.2691\n",
      "Epoch 10/36\n",
      "266/266 [==============================] - 0s 2ms/sample - loss: 0.3493 - val_loss: 0.3110\n",
      "Epoch 11/36\n",
      "266/266 [==============================] - 0s 2ms/sample - loss: 0.3660 - val_loss: 0.3773\n",
      "Epoch 12/36\n",
      "266/266 [==============================] - 0s 2ms/sample - loss: 0.3424 - val_loss: 0.4699\n",
      "Epoch 13/36\n",
      "266/266 [==============================] - 0s 2ms/sample - loss: 0.3419 - val_loss: 0.4163\n",
      "Epoch 14/36\n",
      "266/266 [==============================] - 0s 1ms/sample - loss: 0.3425 - val_loss: 0.2735\n",
      "Epoch 15/36\n",
      "266/266 [==============================] - 0s 2ms/sample - loss: 0.3631 - val_loss: 0.2889\n",
      "Epoch 16/36\n",
      "266/266 [==============================] - 0s 2ms/sample - loss: 0.3383 - val_loss: 0.2825\n",
      "Epoch 17/36\n",
      "266/266 [==============================] - 0s 2ms/sample - loss: 0.3516 - val_loss: 0.2659\n",
      "Epoch 18/36\n",
      "266/266 [==============================] - 0s 2ms/sample - loss: 0.3536 - val_loss: 0.3344\n",
      "Epoch 19/36\n",
      "266/266 [==============================] - 0s 2ms/sample - loss: 0.3477 - val_loss: 0.3004\n",
      "Epoch 20/36\n",
      "266/266 [==============================] - 0s 2ms/sample - loss: 0.3346 - val_loss: 0.4255\n",
      "Epoch 21/36\n",
      "266/266 [==============================] - 0s 1ms/sample - loss: 0.3334 - val_loss: 0.2975\n",
      "Epoch 22/36\n",
      "266/266 [==============================] - 0s 2ms/sample - loss: 0.3401 - val_loss: 0.2849\n",
      "Epoch 23/36\n",
      "266/266 [==============================] - 0s 2ms/sample - loss: 0.3340 - val_loss: 0.2756\n",
      "Epoch 24/36\n",
      "266/266 [==============================] - 0s 2ms/sample - loss: 0.3283 - val_loss: 0.3463\n",
      "Epoch 25/36\n",
      "266/266 [==============================] - 0s 2ms/sample - loss: 0.3270 - val_loss: 0.2715\n",
      "Epoch 26/36\n",
      "266/266 [==============================] - 0s 2ms/sample - loss: 0.3377 - val_loss: 0.2699\n",
      "Epoch 27/36\n",
      "266/266 [==============================] - 0s 2ms/sample - loss: 0.3240 - val_loss: 0.3144\n",
      "Epoch 28/36\n",
      "266/266 [==============================] - 0s 2ms/sample - loss: 0.3283 - val_loss: 0.2713\n",
      "Epoch 29/36\n",
      "266/266 [==============================] - 0s 2ms/sample - loss: 0.3363 - val_loss: 0.2789\n",
      "Epoch 30/36\n",
      "266/266 [==============================] - 0s 2ms/sample - loss: 0.3331 - val_loss: 0.3715\n",
      "Epoch 31/36\n",
      "266/266 [==============================] - 0s 2ms/sample - loss: 0.3247 - val_loss: 0.3315\n",
      "Epoch 32/36\n",
      "266/266 [==============================] - 0s 2ms/sample - loss: 0.3208 - val_loss: 0.2581\n",
      "Epoch 33/36\n",
      "266/266 [==============================] - 0s 2ms/sample - loss: 0.3417 - val_loss: 0.2940\n",
      "Epoch 34/36\n",
      "266/266 [==============================] - 0s 2ms/sample - loss: 0.3202 - val_loss: 0.3227\n",
      "Epoch 35/36\n",
      "266/266 [==============================] - 0s 2ms/sample - loss: 0.3305 - val_loss: 0.2755\n",
      "Epoch 36/36\n",
      "266/266 [==============================] - 0s 2ms/sample - loss: 0.3219 - val_loss: 0.2913\n",
      "\n",
      "Precision score: 0.7632\n",
      "Recall score: 0.8788\n",
      "Accuracy score: 0.8687\n",
      "F1 score: 0.8169\n",
      "\n",
      "Classification accuracy report:\n",
      "              precision    recall  f1-score   support\n",
      "\n",
      "           0       0.93      0.86      0.90        66\n",
      "           1       0.76      0.88      0.82        33\n",
      "\n",
      "   micro avg       0.87      0.87      0.87        99\n",
      "   macro avg       0.85      0.87      0.86        99\n",
      "weighted avg       0.88      0.87      0.87        99\n",
      "\n",
      "\n",
      "Confusion matrix:\n",
      "[[57  9]\n",
      " [ 4 29]]\n",
      "\n",
      "AUC Index: 0.963\n"
     ]
    },
    {
     "data": {
      "image/png": "[encoded data removed]",
      "text/plain": [
       "<Figure size 432x288 with 1 Axes>"
      ]
     },
     "metadata": {
      "needs_background": "light"
     },
     "output_type": "display_data"
    }
   ],
   "source": [
    "## DNN model utilizing TF's Keras API\n",
    "model = keras.models.Sequential()\n",
    "model.add(keras.layers.InputLayer(input_shape=X.shape[1:]))\n",
    "model.add(keras.layers.Dense(128, activation='sigmoid'))\n",
    "model.add(keras.layers.Dense(128, activation='sigmoid'))\n",
    "model.add(keras.layers.Dense(1, activation='sigmoid'))\n",
    "model.compile(optimizer='adam',\n",
    "              loss='binary_crossentropy')\n",
    "model.summary()\n",
    "model.fit(X_train, y_train, epochs=36, batch_size=1, validation_split=0.1)\n",
    "Y_pred = model.predict_classes(X_test)\n",
    "\n",
    "## Metrics - \n",
    "\n",
    "print('\\nPrecision score: {:.4f}'.format(precision_score(y_test, Y_pred)))\n",
    "print('Recall score: {:.4f}'.format(recall_score(y_test, Y_pred)))\n",
    "print('Accuracy score: {:.4f}'.format(accuracy_score(y_test, Y_pred)))\n",
    "print('F1 score: {:.4f}'.format(f1_score(y_test, Y_pred)))\n",
    "\n",
    "print('\\nClassification accuracy report:')\n",
    "print(classification_report(y_test, Y_pred))\n",
    "print('\\nConfusion matrix:')\n",
    "print(confusion_matrix(y_test, Y_pred))\n",
    "\n",
    "## Creating an ROC/AUC curve to visualize performance. \n",
    "classification_probs = model.predict_proba(X_test)\n",
    "classification_AUC = roc_auc_score(y_test, classification_probs)  \n",
    "print(\"\\nAUC Index: {:.3f}\".format(classification_AUC))\n",
    "fpr, tpr, threshold = roc_curve(y_test,  classification_probs)\n",
    "plt.plot(fpr,tpr,label=\"auc=\"+str(classification_AUC))\n",
    "plt.legend(loc=5)\n",
    "plt.ylabel('Recall')\n",
    "plt.xlabel('1-specificity')\n",
    "plt.title('ROC Curve')\n",
    "plt.show()"
   ]
  },
  {
   "cell_type": "code",
   "execution_count": 5,
   "metadata": {},
   "outputs": [
    {
     "name": "stdout",
     "output_type": "stream",
     "text": [
      "Precision score: 0.6410\n",
      "Recall score: 0.7576\n",
      "Accuracy score: 0.7778\n",
      "F1 score: 0.6944\n",
      "\n",
      "AUC Index: 0.7727272727272727\n"
     ]
    },
    {
     "data": {
      "image/png": "[encoded data removed]",
      "text/plain": [
       "<Figure size 432x288 with 1 Axes>"
      ]
     },
     "metadata": {
      "needs_background": "light"
     },
     "output_type": "display_data"
    }
   ],
   "source": [
    "## Simple Decision Tree\n",
    "tree = DecisionTreeClassifier()\n",
    "tree.fit(X_train, y_train)\n",
    "\n",
    "## Decision Tree Metrics\n",
    "tree_y_pred = tree.predict(X_test)\n",
    "print('Precision score: {:.4f}'.format(precision_score(y_test, tree_y_pred)))\n",
    "print('Recall score: {:.4f}'.format(recall_score(y_test, tree_y_pred)))\n",
    "print('Accuracy score: {:.4f}'.format(accuracy_score(y_test, tree_y_pred)))\n",
    "print('F1 score: {:.4f}'.format(f1_score(y_test, tree_y_pred)))\n",
    "\n",
    "tree_probs = tree.predict_proba(X_test)\n",
    "tree_AUC = roc_auc_score(y_test, tree_probs[:, 1]) ## Probability here just like lecture notes.\n",
    "print(\"\\nAUC Index:\", tree_AUC)\n",
    "fpr, tpr, threshold = roc_curve(y_test,  tree_probs[:, 1]) ## Probability here just like lecture notes.\n",
    "plt.plot(fpr,tpr,label=\"auc=\"+str(tree_AUC))\n",
    "plt.legend(loc=5)\n",
    "plt.ylabel('Recall')\n",
    "plt.xlabel('1-specificity')\n",
    "plt.title('ROC Curve')\n",
    "plt.show()"
   ]
  },
  {
   "cell_type": "code",
   "execution_count": 6,
   "metadata": {},
   "outputs": [
    {
     "name": "stdout",
     "output_type": "stream",
     "text": [
      "Best Parameters: {'max_depth': 1, 'max_leaf_nodes': 2, 'min_samples_split': 2}\n",
      "\n",
      "Precision score: 0.6600\n",
      "Recall score: 1.0000\n",
      "Accuracy score: 0.8283\n",
      "F1 score: 0.7952\n",
      "\n",
      "AUC Index: 0.8712121212121212\n"
     ]
    },
    {
     "name": "stderr",
     "output_type": "stream",
     "text": [
      "/opt/conda/lib/python3.7/site-packages/sklearn/model_selection/_search.py:841: DeprecationWarning: The default of the `iid` parameter will change from True to False in version 0.22 and will be removed in 0.24. This will change numeric results when test-set sizes are unequal.\n",
      "  DeprecationWarning)\n"
     ]
    },
    {
     "data": {
      "image/png": "[encoded data removed]",
      "text/plain": [
       "<Figure size 432x288 with 1 Axes>"
      ]
     },
     "metadata": {
      "needs_background": "light"
     },
     "output_type": "display_data"
    }
   ],
   "source": [
    "## Tuning hyperparameters of tree - cross-validated grid-search over a parameter grid.\n",
    "optimized_tree = DecisionTreeClassifier()\n",
    "params = {\"max_depth\": range(1,10),\n",
    "           \"min_samples_split\": range(2,10,1),\n",
    "           \"max_leaf_nodes\": range(2,5)}\n",
    "\n",
    "opt_tree = GridSearchCV(optimized_tree, params, cv=5) ##  folds in stratified k-fold. \n",
    "opt_tree.fit(X_train,y_train)\n",
    "print(\"Best Parameters:\", opt_tree.best_params_)\n",
    "\n",
    "## Grid Search Tree Metrics\n",
    "grid_tree_y_pred = opt_tree.predict(X_test)\n",
    "grid_tree_probs = opt_tree.predict_proba(X_test)\n",
    "grid_tree_AUC = roc_auc_score(y_test, grid_tree_probs[:, 1])  ## Probability here just like lecture notes.\n",
    "\n",
    "print('\\nPrecision score: {:.4f}'.format(precision_score(y_test, grid_tree_y_pred)))\n",
    "print('Recall score: {:.4f}'.format(recall_score(y_test, grid_tree_y_pred)))\n",
    "print('Accuracy score: {:.4f}'.format(accuracy_score(y_test, grid_tree_y_pred)))\n",
    "print('F1 score: {:.4f}'.format(f1_score(y_test, grid_tree_y_pred)))\n",
    "\n",
    "print(\"\\nAUC Index:\", grid_tree_AUC)\n",
    "fpr, tpr, threshold = roc_curve(y_test,  grid_tree_probs[:, 1])\n",
    "plt.plot(fpr,tpr,label=\"auc=\"+str(grid_tree_AUC))\n",
    "plt.legend(loc=5)\n",
    "plt.ylabel('Recall')\n",
    "plt.xlabel('1-specificity')\n",
    "plt.title('ROC Curve')\n",
    "plt.show() "
   ]
  },
  {
   "cell_type": "code",
   "execution_count": 7,
   "metadata": {},
   "outputs": [
    {
     "name": "stdout",
     "output_type": "stream",
     "text": [
      "Precision score: 0.7500\n",
      "Recall score: 0.9091\n",
      "Accuracy score: 0.8687\n",
      "F1 score: 0.8219\n",
      "\n",
      "AUC Index: 0.9336547291092747\n"
     ]
    },
    {
     "data": {
      "image/png": "[encoded data removed]",
      "text/plain": [
       "<Figure size 432x288 with 1 Axes>"
      ]
     },
     "metadata": {
      "needs_background": "light"
     },
     "output_type": "display_data"
    }
   ],
   "source": [
    "## Random Forest\n",
    "random_forest_clf = RandomForestClassifier(n_estimators=200, n_jobs=-1, bootstrap=True)\n",
    "random_forest_clf.fit(X_train, y_train)\n",
    "rf_y_pred = random_forest_clf.predict(X_test)\n",
    "rf_probs = random_forest_clf.predict_proba(X_test)\n",
    "\n",
    "## Metrics\n",
    "print('Precision score: {:.4f}'.format(precision_score(y_test,rf_y_pred)))\n",
    "print('Recall score: {:.4f}'.format(recall_score(y_test,rf_y_pred)))\n",
    "print('Accuracy score: {:.4f}'.format(accuracy_score(y_test,rf_y_pred)))\n",
    "print('F1 score: {:.4f}'.format(f1_score(y_test,rf_y_pred)))\n",
    "\n",
    "rf_AUC = roc_auc_score(y_test, rf_probs[:, 1])  ## Probability here just like lecture notes.\n",
    "print(\"\\nAUC Index:\", rf_AUC)\n",
    "fpr, tpr, threshold = roc_curve(y_test,  rf_probs[:, 1])  ## Probability here just like lecture notes.\n",
    "plt.plot(fpr,tpr,label=\"auc=\"+str(rf_AUC))\n",
    "plt.legend(loc=5)\n",
    "plt.ylabel('Recall')\n",
    "plt.xlabel('1-specificity')\n",
    "plt.title('ROC Curve')\n",
    "plt.show()"
   ]
  },
  {
   "cell_type": "code",
   "execution_count": 8,
   "metadata": {},
   "outputs": [
    {
     "name": "stdout",
     "output_type": "stream",
     "text": [
      "Precision score: 0.7632\n",
      "Recall score: 0.8788\n",
      "Accuracy score: 0.8687\n",
      "F1 score: 0.8169\n",
      "\n",
      "AUC Index: 0.9637281910009183\n"
     ]
    },
    {
     "name": "stderr",
     "output_type": "stream",
     "text": [
      "/opt/conda/lib/python3.7/site-packages/sklearn/linear_model/logistic.py:433: FutureWarning: Default solver will be changed to 'lbfgs' in 0.22. Specify a solver to silence this warning.\n",
      "  FutureWarning)\n"
     ]
    },
    {
     "data": {
      "image/png": "[encoded data removed]",
      "text/plain": [
       "<Figure size 432x288 with 1 Axes>"
      ]
     },
     "metadata": {
      "needs_background": "light"
     },
     "output_type": "display_data"
    }
   ],
   "source": [
    "## Logistic Regression\n",
    "log_regression = LogisticRegression().fit(X_train, y_train)\n",
    "logistic_y_pred = log_regression.predict(X_test)\n",
    "log_probs = log_regression.predict_proba(X_test)\n",
    "\n",
    "## Metrics\n",
    "print('Precision score: {:.4f}'.format(precision_score(y_test,logistic_y_pred)))\n",
    "print('Recall score: {:.4f}'.format(recall_score(y_test,logistic_y_pred)))\n",
    "print('Accuracy score: {:.4f}'.format(accuracy_score(y_test,logistic_y_pred)))\n",
    "print('F1 score: {:.4f}'.format(f1_score(y_test,logistic_y_pred)))\n",
    "\n",
    "log_AUC = roc_auc_score(y_test, log_probs[:, 1])\n",
    "print(\"\\nAUC Index:\", log_AUC)\n",
    "fpr, tpr, threshold = roc_curve(y_test,  log_probs[:, 1])\n",
    "plt.plot(fpr,tpr,label=\"auc=\"+str(log_AUC))\n",
    "plt.legend(loc=5)\n",
    "plt.ylabel('Recall')\n",
    "plt.xlabel('1-specificity')\n",
    "plt.title('ROC Curve')\n",
    "plt.show()"
   ]
  },
  {
   "cell_type": "code",
   "execution_count": 9,
   "metadata": {},
   "outputs": [
    {
     "name": "stderr",
     "output_type": "stream",
     "text": [
      "/opt/conda/lib/python3.7/site-packages/sklearn/svm/base.py:931: ConvergenceWarning: Liblinear failed to converge, increase the number of iterations.\n",
      "  \"the number of iterations.\", ConvergenceWarning)\n"
     ]
    },
    {
     "name": "stdout",
     "output_type": "stream",
     "text": [
      "Best Parameters: {'C': 0.0001}\n",
      "Precision score: 1.0000\n",
      "Recall score: 0.0303\n",
      "Accuracy score: 0.6768\n",
      "F1 score: 0.0588\n",
      "\n",
      "AUC Index: 0.5151515151515151\n"
     ]
    },
    {
     "name": "stderr",
     "output_type": "stream",
     "text": [
      "/opt/conda/lib/python3.7/site-packages/sklearn/model_selection/_search.py:841: DeprecationWarning: The default of the `iid` parameter will change from True to False in version 0.22 and will be removed in 0.24. This will change numeric results when test-set sizes are unequal.\n",
      "  DeprecationWarning)\n"
     ]
    },
    {
     "data": {
      "image/png": "[encoded data removed]",
      "text/plain": [
       "<Figure size 432x288 with 1 Axes>"
      ]
     },
     "metadata": {
      "needs_background": "light"
     },
     "output_type": "display_data"
    }
   ],
   "source": [
    "## Support Vector Machine (linear kernel function) - w/ hyperparameter (C) tuning. \n",
    "linear_svm = LinearSVC().fit(X_train, y_train)\n",
    "params_svm = {'C': [.0001,.001,.01,.1,1,10,100,1000,10000]}\n",
    "\n",
    "grid_svm = GridSearchCV(linear_svm, params_svm, cv=5, n_jobs=-1,scoring ='roc_auc', return_train_score=True)\n",
    "grid_svm.fit(X_train, y_train)\n",
    "print(\"Best Parameters:\", grid_svm.best_params_)\n",
    "grid_svm_y_pred = grid_svm.predict(X_test)\n",
    "\n",
    "## SVM Metrics\n",
    "print('Precision score: {:.4f}'.format(precision_score(y_test,grid_svm_y_pred)))\n",
    "print('Recall score: {:.4f}'.format(recall_score(y_test,grid_svm_y_pred)))\n",
    "print('Accuracy score: {:.4f}'.format(accuracy_score(y_test,grid_svm_y_pred)))\n",
    "print('F1 score: {:.4f}'.format(f1_score(y_test,grid_svm_y_pred)))\n",
    "\n",
    "grid_svm_AUC = roc_auc_score(y_test, grid_svm_y_pred)  \n",
    "print(\"\\nAUC Index:\", grid_svm_AUC)\n",
    "fpr, tpr, threshold = roc_curve(y_test,  grid_svm_y_pred)\n",
    "plt.plot(fpr,tpr,label=\"auc=\"+str(grid_svm_AUC))\n",
    "plt.legend(loc=5)\n",
    "plt.ylabel('Recall')\n",
    "plt.xlabel('1-specificity')\n",
    "plt.title('ROC Curve')\n",
    "plt.show()"
   ]
  },
  {
   "cell_type": "code",
   "execution_count": 10,
   "metadata": {},
   "outputs": [
    {
     "name": "stdout",
     "output_type": "stream",
     "text": [
      "Best Parameters: {'C': 10, 'gamma': 0.0001}\n",
      "\n",
      "Precision score: 0.7692\n",
      "Recall score: 0.9091\n",
      "Accuracy score: 0.8788\n",
      "F1 score: 0.8333\n",
      "\n",
      "AUC Index: 0.8863636363636365\n"
     ]
    },
    {
     "name": "stderr",
     "output_type": "stream",
     "text": [
      "/opt/conda/lib/python3.7/site-packages/sklearn/model_selection/_search.py:841: DeprecationWarning: The default of the `iid` parameter will change from True to False in version 0.22 and will be removed in 0.24. This will change numeric results when test-set sizes are unequal.\n",
      "  DeprecationWarning)\n"
     ]
    },
    {
     "data": {
      "image/png": "[encoded data removed]",
      "text/plain": [
       "<Figure size 432x288 with 1 Axes>"
      ]
     },
     "metadata": {
      "needs_background": "light"
     },
     "output_type": "display_data"
    }
   ],
   "source": [
    "## Support Vector Machine (rbf/exp kernel function) - w/ hyperparameter (C and gamma) tuning. \n",
    "svm_kernel = SVC(kernel = 'rbf')\n",
    "\n",
    "param_svm_kernel = {'C': [.0001,.001,.01,.1,1,10,100,1000,10000], 'gamma':[.0001,.001,.01,.1,1,10,100,1000,10000]}\n",
    "\n",
    "grid_svm_kernel = GridSearchCV(svm_kernel, param_svm_kernel, cv=5, n_jobs=-1, scoring='roc_auc')\n",
    "grid_svm_kernel.fit(X_train, y_train)\n",
    "\n",
    "print(\"Best Parameters:\", grid_svm_kernel.best_params_)\n",
    "grid_rbf_svm_y_pred = grid_svm_kernel.predict(X_test)\n",
    "\n",
    "## rbf SVM Metrics\n",
    "print('\\nPrecision score: {:.4f}'.format(precision_score(y_test,grid_rbf_svm_y_pred)))\n",
    "print('Recall score: {:.4f}'.format(recall_score(y_test,grid_rbf_svm_y_pred)))\n",
    "print('Accuracy score: {:.4f}'.format(accuracy_score(y_test,grid_rbf_svm_y_pred)))\n",
    "print('F1 score: {:.4f}'.format(f1_score(y_test,grid_rbf_svm_y_pred)))\n",
    "\n",
    "grid_rbf_svm_AUC = roc_auc_score(y_test, grid_rbf_svm_y_pred)\n",
    "print(\"\\nAUC Index:\", grid_rbf_svm_AUC)\n",
    "fpr, tpr, threshold = roc_curve(y_test,  grid_rbf_svm_y_pred)\n",
    "plt.plot(fpr,tpr,label=\"auc=\"+str(grid_rbf_svm_AUC))\n",
    "plt.legend(loc=5)\n",
    "plt.ylabel('Recall')\n",
    "plt.xlabel('1-specificity')\n",
    "plt.title('ROC Curve')\n",
    "plt.show()"
   ]
  },
  {
   "cell_type": "markdown",
   "metadata": {},
   "source": [
    "## Portuguese - Data Prep"
   ]
  },
  {
   "cell_type": "code",
   "execution_count": 11,
   "metadata": {},
   "outputs": [],
   "source": [
    "por_data = pd.read_csv('encoded_por_data.csv')\n",
    "\n",
    "list_of_schools = []\n",
    "for i in por_data['school']:\n",
    "    if i == 'GP':\n",
    "        school = 1\n",
    "    else:\n",
    "        school = 0\n",
    "    list_of_schools.append(school)\n",
    "por_data['school'] = list_of_schools\n",
    "\n",
    "## One-hot encoding variables. \n",
    "sex_one_hot = ker.to_categorical(por_data['sex']).tolist()\n",
    "address_one_hot = ker.to_categorical(por_data['address']).tolist()\n",
    "pstatus_one_hot = ker.to_categorical(por_data['Pstatus']).tolist()\n",
    "fedu_one_hot = ker.to_categorical(por_data['Fedu']).tolist()\n",
    "medu_one_hot = ker.to_categorical(por_data['Medu']).tolist()\n",
    "schoolsup_one_hot = ker.to_categorical(por_data['schoolsup']).tolist()\n",
    "famsup_one_hot = ker.to_categorical(por_data['famsup']).tolist()\n",
    "paid_one_hot = ker.to_categorical(por_data['paid']).tolist()\n",
    "activities_one_hot = ker.to_categorical(por_data['activities']).tolist()\n",
    "nursery_one_hot = ker.to_categorical(por_data['nursery']).tolist()\n",
    "higher_one_hot = ker.to_categorical(por_data['higher']).tolist()\n",
    "internet_one_hot = ker.to_categorical(por_data['internet']).tolist()\n",
    "romantic_one_hot = ker.to_categorical(por_data['romantic']).tolist()\n",
    "\n",
    "## Adding one-hot vectors to df.\n",
    "por_data['sex_one_hot'] = sex_one_hot\n",
    "por_data['address_one_hot'] = address_one_hot\n",
    "por_data['pstatus_one_hot'] = pstatus_one_hot\n",
    "por_data['fedu_one_hot'] = fedu_one_hot\n",
    "por_data['medu_one_hot'] = medu_one_hot\n",
    "por_data['schoolsup_one_hot'] = schoolsup_one_hot\n",
    "por_data['famsup_one_hot'] = famsup_one_hot\n",
    "por_data['paid_one_hot'] = paid_one_hot\n",
    "por_data['activities_one_hot'] = activities_one_hot\n",
    "por_data['nursery_one_hot'] = nursery_one_hot\n",
    "por_data['higher_one_hot'] = higher_one_hot\n",
    "por_data['internet_one_hot'] = internet_one_hot\n",
    "por_data['romantic_one_hot'] = romantic_one_hot\n",
    "\n",
    "# Creating a new binary variable - 1 if student failed first grading period\n",
    "previous_grade_list = []\n",
    "for i in por_data['P1']:\n",
    "    if i < 9.5: # Fail\n",
    "        label = 1\n",
    "    else: # Pass\n",
    "        label = 0\n",
    "    previous_grade_list.append(label)\n",
    "por_data['previous_pass_fail'] = previous_grade_list\n",
    "\n",
    "## Creating a new binary variable - 1 if both parents attended university. \n",
    "both_parents_college_list = []\n",
    "for i in range(0, len(por_data)):\n",
    "    if (por_data['Fedu'][i] == 4) & (por_data['Medu'][i] == 4):\n",
    "        x = 1\n",
    "    else:\n",
    "        x = 0\n",
    "    both_parents_college_list.append(x)\n",
    "por_data['both_parents_college'] = both_parents_college_list\n",
    "\n",
    "## Creating labels - Pass(0) Fail(1) \n",
    "list_of_labels = []\n",
    "## Pass - Fail grading scale\n",
    "for i in por_data['P3']:\n",
    "    if i < 9.5: # Fail\n",
    "        label = 1\n",
    "    else: # Pass\n",
    "        label = 0\n",
    "    list_of_labels.append(label)\n",
    "por_data['label'] = list_of_labels\n",
    "\n",
    "\n",
    "## Creating input vector\n",
    "X = []\n",
    "for i in range(0, len(por_data)):\n",
    "    x = []\n",
    "    \n",
    "#    x.append(por_data['age'][i])\n",
    "    x.append(por_data['Medu'][i])\n",
    "    x.append(por_data['Fedu'][i])\n",
    "#    x.append(por_data['both_parents_college'][i])\n",
    "#    x.append(por_data['studytime'][i])\n",
    "#    x.append(por_data['famrel'][i])\n",
    "#    x.append(por_data['freetime'][i])\n",
    "    x.append(por_data['goout'][i])\n",
    "    x.append(por_data['Dalc'][i])\n",
    "    x.append(por_data['Walc'][i])\n",
    "#    x.append(por_data['health'][i])\n",
    "#    x.append(por_data['m_absences'][i])\n",
    "    x.append(por_data['failures'][i])\n",
    "    \n",
    "#    x.extend(por_data['sex_one_hot'][i])\n",
    "#    x.extend(por_data['address_one_hot'][i])\n",
    "#    x.extend(por_data['pstatus_one_hot'][i])\n",
    "#    x.extend(por_data['schoolsup_one_hot'][i])\n",
    "#    x.extend(por_data['famsup_one_hot'][i])\n",
    "    x.extend(por_data['paid_one_hot'][i])\n",
    "#    x.extend(por_data['activities_one_hot'][i])\n",
    "#    x.extend(por_data['nursery_one_hot'][i])\n",
    "#    x.extend(por_data['school_one_hot'][i])\n",
    "    x.extend(por_data['higher_one_hot'][i])\n",
    "    x.extend(por_data['internet_one_hot'][i])\n",
    "    x.extend(por_data['romantic_one_hot'][i])\n",
    "    x.append(por_data['previous_pass_fail'][i])\n",
    "    x.append(por_data['P1'][i])\n",
    "    X.append(x)\n",
    "\n",
    "Y = np.array(list_of_labels)\n",
    "X = np.array(X)\n",
    "\n",
    "X_train, X_test, y_train, y_test = train_test_split(X, Y, test_size=0.25, stratify=Y)"
   ]
  },
  {
   "cell_type": "markdown",
   "metadata": {},
   "source": [
    "## Portuguese - Modeling"
   ]
  },
  {
   "cell_type": "code",
   "execution_count": 12,
   "metadata": {},
   "outputs": [
    {
     "name": "stdout",
     "output_type": "stream",
     "text": [
      "Model: \"sequential_1\"\n",
      "_________________________________________________________________\n",
      "Layer (type)                 Output Shape              Param #   \n",
      "=================================================================\n",
      "dense_3 (Dense)              (None, 128)               2176      \n",
      "_________________________________________________________________\n",
      "dense_4 (Dense)              (None, 128)               16512     \n",
      "_________________________________________________________________\n",
      "dense_5 (Dense)              (None, 1)                 129       \n",
      "=================================================================\n",
      "Total params: 18,817\n",
      "Trainable params: 18,817\n",
      "Non-trainable params: 0\n",
      "_________________________________________________________________\n",
      "Train on 437 samples, validate on 49 samples\n",
      "Epoch 1/36\n",
      "437/437 [==============================] - 1s 2ms/sample - loss: 0.3632 - val_loss: 0.2732\n",
      "Epoch 2/36\n",
      "437/437 [==============================] - 1s 1ms/sample - loss: 0.2640 - val_loss: 0.1889\n",
      "Epoch 3/36\n",
      "437/437 [==============================] - 1s 2ms/sample - loss: 0.2306 - val_loss: 0.1788\n",
      "Epoch 4/36\n",
      "437/437 [==============================] - 1s 1ms/sample - loss: 0.2331 - val_loss: 0.1674\n",
      "Epoch 5/36\n",
      "437/437 [==============================] - 1s 2ms/sample - loss: 0.2176 - val_loss: 0.1713\n",
      "Epoch 6/36\n",
      "437/437 [==============================] - 1s 2ms/sample - loss: 0.2260 - val_loss: 0.1817\n",
      "Epoch 7/36\n",
      "437/437 [==============================] - 1s 2ms/sample - loss: 0.2118 - val_loss: 0.1833\n",
      "Epoch 8/36\n",
      "437/437 [==============================] - 1s 2ms/sample - loss: 0.2268 - val_loss: 0.1794\n",
      "Epoch 9/36\n",
      "437/437 [==============================] - 1s 2ms/sample - loss: 0.2161 - val_loss: 0.2127\n",
      "Epoch 10/36\n",
      "437/437 [==============================] - 1s 2ms/sample - loss: 0.2092 - val_loss: 0.2066\n",
      "Epoch 11/36\n",
      "437/437 [==============================] - 1s 2ms/sample - loss: 0.2018 - val_loss: 0.1888\n",
      "Epoch 12/36\n",
      "437/437 [==============================] - 1s 2ms/sample - loss: 0.2130 - val_loss: 0.1879\n",
      "Epoch 13/36\n",
      "437/437 [==============================] - 1s 1ms/sample - loss: 0.2100 - val_loss: 0.2294\n",
      "Epoch 14/36\n",
      "437/437 [==============================] - 1s 1ms/sample - loss: 0.2087 - val_loss: 0.2198\n",
      "Epoch 15/36\n",
      "437/437 [==============================] - 1s 2ms/sample - loss: 0.2000 - val_loss: 0.2676\n",
      "Epoch 16/36\n",
      "437/437 [==============================] - 1s 1ms/sample - loss: 0.2081 - val_loss: 0.2490\n",
      "Epoch 17/36\n",
      "437/437 [==============================] - 1s 2ms/sample - loss: 0.1999 - val_loss: 0.2182\n",
      "Epoch 18/36\n",
      "437/437 [==============================] - 1s 2ms/sample - loss: 0.2072 - val_loss: 0.1969\n",
      "Epoch 19/36\n",
      "437/437 [==============================] - 1s 1ms/sample - loss: 0.2149 - val_loss: 0.1942\n",
      "Epoch 20/36\n",
      "437/437 [==============================] - 1s 2ms/sample - loss: 0.2033 - val_loss: 0.2276\n",
      "Epoch 21/36\n",
      "437/437 [==============================] - 1s 1ms/sample - loss: 0.2007 - val_loss: 0.2145\n",
      "Epoch 22/36\n",
      "437/437 [==============================] - 1s 2ms/sample - loss: 0.2064 - val_loss: 0.2291\n",
      "Epoch 23/36\n",
      "437/437 [==============================] - 1s 2ms/sample - loss: 0.2045 - val_loss: 0.2391\n",
      "Epoch 24/36\n",
      "437/437 [==============================] - 1s 2ms/sample - loss: 0.2077 - val_loss: 0.1952\n",
      "Epoch 25/36\n",
      "437/437 [==============================] - 1s 2ms/sample - loss: 0.1992 - val_loss: 0.2506\n",
      "Epoch 26/36\n",
      "437/437 [==============================] - 1s 2ms/sample - loss: 0.2005 - val_loss: 0.1994\n",
      "Epoch 27/36\n",
      "437/437 [==============================] - 1s 2ms/sample - loss: 0.2040 - val_loss: 0.2145\n",
      "Epoch 28/36\n",
      "437/437 [==============================] - 1s 2ms/sample - loss: 0.1955 - val_loss: 0.2064\n",
      "Epoch 29/36\n",
      "437/437 [==============================] - 1s 2ms/sample - loss: 0.2057 - val_loss: 0.2033\n",
      "Epoch 30/36\n",
      "437/437 [==============================] - 1s 2ms/sample - loss: 0.1999 - val_loss: 0.2117\n",
      "Epoch 31/36\n",
      "437/437 [==============================] - 1s 2ms/sample - loss: 0.2000 - val_loss: 0.1961\n",
      "Epoch 32/36\n",
      "437/437 [==============================] - 1s 1ms/sample - loss: 0.1888 - val_loss: 0.2198\n",
      "Epoch 33/36\n",
      "437/437 [==============================] - 1s 1ms/sample - loss: 0.1945 - val_loss: 0.2036\n",
      "Epoch 34/36\n",
      "437/437 [==============================] - 1s 2ms/sample - loss: 0.1922 - val_loss: 0.2212\n",
      "Epoch 35/36\n",
      "437/437 [==============================] - ETA: 0s - loss: 0.198 - 1s 2ms/sample - loss: 0.1976 - val_loss: 0.2212\n",
      "Epoch 36/36\n",
      "437/437 [==============================] - 1s 2ms/sample - loss: 0.1901 - val_loss: 0.2009\n",
      "\n",
      "Precision score: 0.6087\n",
      "Recall score: 0.5600\n",
      "Accuracy score: 0.8773\n",
      "F1 score: 0.5833\n",
      "\n",
      "Classification accuracy report:\n",
      "              precision    recall  f1-score   support\n",
      "\n",
      "           0       0.92      0.93      0.93       138\n",
      "           1       0.61      0.56      0.58        25\n",
      "\n",
      "   micro avg       0.88      0.88      0.88       163\n",
      "   macro avg       0.77      0.75      0.76       163\n",
      "weighted avg       0.87      0.88      0.88       163\n",
      "\n",
      "\n",
      "Confusion matrix:\n",
      "[[129   9]\n",
      " [ 11  14]]\n",
      "\n",
      "AUC Index: 0.918\n"
     ]
    },
    {
     "data": {
      "image/png": "[encoded data removed]",
      "text/plain": [
       "<Figure size 432x288 with 1 Axes>"
      ]
     },
     "metadata": {
      "needs_background": "light"
     },
     "output_type": "display_data"
    }
   ],
   "source": [
    "## DNN model utilizing TF's Keras API\n",
    "model = keras.models.Sequential()\n",
    "model.add(keras.layers.InputLayer(input_shape=X.shape[1:]))\n",
    "model.add(keras.layers.Dense(128, activation='sigmoid'))\n",
    "model.add(keras.layers.Dense(128, activation='sigmoid'))\n",
    "model.add(keras.layers.Dense(1, activation='sigmoid'))\n",
    "model.compile(optimizer='adam',\n",
    "              loss='binary_crossentropy')\n",
    "model.summary()\n",
    "model.fit(X_train, y_train, epochs=36, batch_size=1, validation_split=0.1)\n",
    "Y_pred = model.predict_classes(X_test)\n",
    "\n",
    "## Metrics - \n",
    "\n",
    "print('\\nPrecision score: {:.4f}'.format(precision_score(y_test, Y_pred)))\n",
    "print('Recall score: {:.4f}'.format(recall_score(y_test, Y_pred)))\n",
    "print('Accuracy score: {:.4f}'.format(accuracy_score(y_test, Y_pred)))\n",
    "print('F1 score: {:.4f}'.format(f1_score(y_test, Y_pred)))\n",
    "\n",
    "print('\\nClassification accuracy report:')\n",
    "print(classification_report(y_test, Y_pred))\n",
    "print('\\nConfusion matrix:')\n",
    "print(confusion_matrix(y_test, Y_pred))\n",
    "\n",
    "## Creating an ROC/AUC curve to visualize performance. \n",
    "classification_probs = model.predict_proba(X_test)\n",
    "classification_AUC = roc_auc_score(y_test, classification_probs)  \n",
    "print(\"\\nAUC Index: {:.3f}\".format(classification_AUC))\n",
    "fpr, tpr, threshold = roc_curve(y_test,  classification_probs)\n",
    "plt.plot(fpr,tpr,label=\"auc=\"+str(classification_AUC))\n",
    "plt.legend(loc=5)\n",
    "plt.ylabel('Recall')\n",
    "plt.xlabel('1-specificity')\n",
    "plt.title('ROC Curve')\n",
    "plt.show()"
   ]
  },
  {
   "cell_type": "code",
   "execution_count": 13,
   "metadata": {},
   "outputs": [
    {
     "name": "stdout",
     "output_type": "stream",
     "text": [
      "Precision score: 0.6471\n",
      "Recall score: 0.4400\n",
      "Accuracy score: 0.8773\n",
      "F1 score: 0.5238\n",
      "\n",
      "AUC Index: 0.6982608695652174\n"
     ]
    },
    {
     "data": {
      "image/png": "[encoded data removed]",
      "text/plain": [
       "<Figure size 432x288 with 1 Axes>"
      ]
     },
     "metadata": {
      "needs_background": "light"
     },
     "output_type": "display_data"
    }
   ],
   "source": [
    "## Simple Decision Tree\n",
    "tree = DecisionTreeClassifier()\n",
    "tree.fit(X_train, y_train)\n",
    "\n",
    "## Decision Tree Metrics\n",
    "tree_y_pred = tree.predict(X_test)\n",
    "print('Precision score: {:.4f}'.format(precision_score(y_test, tree_y_pred)))\n",
    "print('Recall score: {:.4f}'.format(recall_score(y_test, tree_y_pred)))\n",
    "print('Accuracy score: {:.4f}'.format(accuracy_score(y_test, tree_y_pred)))\n",
    "print('F1 score: {:.4f}'.format(f1_score(y_test, tree_y_pred)))\n",
    "\n",
    "tree_probs = tree.predict_proba(X_test)\n",
    "tree_AUC = roc_auc_score(y_test, tree_probs[:, 1]) ## Probability here just like lecture notes.\n",
    "print(\"\\nAUC Index:\", tree_AUC)\n",
    "fpr, tpr, threshold = roc_curve(y_test,  tree_probs[:, 1]) ## Probability here just like lecture notes.\n",
    "plt.plot(fpr,tpr,label=\"auc=\"+str(tree_AUC))\n",
    "plt.legend(loc=5)\n",
    "plt.ylabel('Recall')\n",
    "plt.xlabel('1-specificity')\n",
    "plt.title('ROC Curve')\n",
    "plt.show()"
   ]
  },
  {
   "cell_type": "code",
   "execution_count": 14,
   "metadata": {},
   "outputs": [
    {
     "name": "stdout",
     "output_type": "stream",
     "text": [
      "Best Parameters: {'max_depth': 1, 'max_leaf_nodes': 2, 'min_samples_split': 2}\n",
      "\n",
      "Precision score: 0.6842\n",
      "Recall score: 0.5200\n",
      "Accuracy score: 0.8896\n",
      "F1 score: 0.5909\n",
      "\n",
      "AUC Index: 0.7382608695652174\n"
     ]
    },
    {
     "data": {
      "image/png": "[encoded data removed]",
      "text/plain": [
       "<Figure size 432x288 with 1 Axes>"
      ]
     },
     "metadata": {
      "needs_background": "light"
     },
     "output_type": "display_data"
    }
   ],
   "source": [
    "## Tuning hyperparameters of tree - cross-validated grid-search over a parameter grid.\n",
    "optimized_tree = DecisionTreeClassifier()\n",
    "params = {\"max_depth\": range(1,10),\n",
    "           \"min_samples_split\": range(2,10,1),\n",
    "           \"max_leaf_nodes\": range(2,5)}\n",
    "\n",
    "opt_tree = GridSearchCV(optimized_tree, params, cv=5) ##  folds in stratified k-fold. \n",
    "opt_tree.fit(X_train,y_train)\n",
    "print(\"Best Parameters:\", opt_tree.best_params_)\n",
    "\n",
    "## Grid Search Tree Metrics\n",
    "grid_tree_y_pred = opt_tree.predict(X_test)\n",
    "grid_tree_probs = opt_tree.predict_proba(X_test)\n",
    "grid_tree_AUC = roc_auc_score(y_test, grid_tree_probs[:, 1])  ## Probability here just like lecture notes.\n",
    "\n",
    "print('\\nPrecision score: {:.4f}'.format(precision_score(y_test, grid_tree_y_pred)))\n",
    "print('Recall score: {:.4f}'.format(recall_score(y_test, grid_tree_y_pred)))\n",
    "print('Accuracy score: {:.4f}'.format(accuracy_score(y_test, grid_tree_y_pred)))\n",
    "print('F1 score: {:.4f}'.format(f1_score(y_test, grid_tree_y_pred)))\n",
    "\n",
    "print(\"\\nAUC Index:\", grid_tree_AUC)\n",
    "fpr, tpr, threshold = roc_curve(y_test,  grid_tree_probs[:, 1])\n",
    "plt.plot(fpr,tpr,label=\"auc=\"+str(grid_tree_AUC))\n",
    "plt.legend(loc=5)\n",
    "plt.ylabel('Recall')\n",
    "plt.xlabel('1-specificity')\n",
    "plt.title('ROC Curve')\n",
    "plt.show() "
   ]
  },
  {
   "cell_type": "code",
   "execution_count": 15,
   "metadata": {},
   "outputs": [
    {
     "name": "stdout",
     "output_type": "stream",
     "text": [
      "Precision score: 0.5263\n",
      "Recall score: 0.4000\n",
      "Accuracy score: 0.8528\n",
      "F1 score: 0.4545\n",
      "\n",
      "AUC Index: 0.9002898550724637\n"
     ]
    },
    {
     "data": {
      "image/png": "[encoded data removed]",
      "text/plain": [
       "<Figure size 432x288 with 1 Axes>"
      ]
     },
     "metadata": {
      "needs_background": "light"
     },
     "output_type": "display_data"
    }
   ],
   "source": [
    "## Random Forest\n",
    "random_forest_clf = RandomForestClassifier(n_estimators=200, n_jobs=-1, bootstrap=True)\n",
    "random_forest_clf.fit(X_train, y_train)\n",
    "rf_y_pred = random_forest_clf.predict(X_test)\n",
    "rf_probs = random_forest_clf.predict_proba(X_test)\n",
    "\n",
    "## Metrics\n",
    "print('Precision score: {:.4f}'.format(precision_score(y_test,rf_y_pred)))\n",
    "print('Recall score: {:.4f}'.format(recall_score(y_test,rf_y_pred)))\n",
    "print('Accuracy score: {:.4f}'.format(accuracy_score(y_test,rf_y_pred)))\n",
    "print('F1 score: {:.4f}'.format(f1_score(y_test,rf_y_pred)))\n",
    "\n",
    "rf_AUC = roc_auc_score(y_test, rf_probs[:, 1])  ## Probability here just like lecture notes.\n",
    "print(\"\\nAUC Index:\", rf_AUC)\n",
    "fpr, tpr, threshold = roc_curve(y_test,  rf_probs[:, 1])  ## Probability here just like lecture notes.\n",
    "plt.plot(fpr,tpr,label=\"auc=\"+str(rf_AUC))\n",
    "plt.legend(loc=5)\n",
    "plt.ylabel('Recall')\n",
    "plt.xlabel('1-specificity')\n",
    "plt.title('ROC Curve')\n",
    "plt.show()"
   ]
  },
  {
   "cell_type": "code",
   "execution_count": 16,
   "metadata": {},
   "outputs": [
    {
     "name": "stdout",
     "output_type": "stream",
     "text": [
      "Precision score: 0.6875\n",
      "Recall score: 0.4400\n",
      "Accuracy score: 0.8834\n",
      "F1 score: 0.5366\n",
      "\n",
      "AUC Index: 0.9231884057971014\n"
     ]
    },
    {
     "name": "stderr",
     "output_type": "stream",
     "text": [
      "/opt/conda/lib/python3.7/site-packages/sklearn/linear_model/logistic.py:433: FutureWarning: Default solver will be changed to 'lbfgs' in 0.22. Specify a solver to silence this warning.\n",
      "  FutureWarning)\n"
     ]
    },
    {
     "data": {
      "image/png": "[encoded data removed]",
      "text/plain": [
       "<Figure size 432x288 with 1 Axes>"
      ]
     },
     "metadata": {
      "needs_background": "light"
     },
     "output_type": "display_data"
    }
   ],
   "source": [
    "## Logistic Regression\n",
    "log_regression = LogisticRegression().fit(X_train, y_train)\n",
    "logistic_y_pred = log_regression.predict(X_test)\n",
    "log_probs = log_regression.predict_proba(X_test)\n",
    "\n",
    "## Metrics\n",
    "print('Precision score: {:.4f}'.format(precision_score(y_test,logistic_y_pred)))\n",
    "print('Recall score: {:.4f}'.format(recall_score(y_test,logistic_y_pred)))\n",
    "print('Accuracy score: {:.4f}'.format(accuracy_score(y_test,logistic_y_pred)))\n",
    "print('F1 score: {:.4f}'.format(f1_score(y_test,logistic_y_pred)))\n",
    "\n",
    "log_AUC = roc_auc_score(y_test, log_probs[:, 1])\n",
    "print(\"\\nAUC Index:\", log_AUC)\n",
    "fpr, tpr, threshold = roc_curve(y_test,  log_probs[:, 1])\n",
    "plt.plot(fpr,tpr,label=\"auc=\"+str(log_AUC))\n",
    "plt.legend(loc=5)\n",
    "plt.ylabel('Recall')\n",
    "plt.xlabel('1-specificity')\n",
    "plt.title('ROC Curve')\n",
    "plt.show()"
   ]
  },
  {
   "cell_type": "code",
   "execution_count": 17,
   "metadata": {},
   "outputs": [
    {
     "name": "stderr",
     "output_type": "stream",
     "text": [
      "/opt/conda/lib/python3.7/site-packages/sklearn/svm/base.py:931: ConvergenceWarning: Liblinear failed to converge, increase the number of iterations.\n",
      "  \"the number of iterations.\", ConvergenceWarning)\n"
     ]
    },
    {
     "name": "stdout",
     "output_type": "stream",
     "text": [
      "Best Parameters: {'C': 0.0001}\n",
      "Precision score: 0.0000\n",
      "Recall score: 0.0000\n",
      "Accuracy score: 0.8466\n",
      "F1 score: 0.0000\n",
      "\n",
      "AUC Index: 0.5\n"
     ]
    },
    {
     "name": "stderr",
     "output_type": "stream",
     "text": [
      "/opt/conda/lib/python3.7/site-packages/sklearn/metrics/classification.py:1143: UndefinedMetricWarning: Precision is ill-defined and being set to 0.0 due to no predicted samples.\n",
      "  'precision', 'predicted', average, warn_for)\n",
      "/opt/conda/lib/python3.7/site-packages/sklearn/metrics/classification.py:1143: UndefinedMetricWarning: F-score is ill-defined and being set to 0.0 due to no predicted samples.\n",
      "  'precision', 'predicted', average, warn_for)\n"
     ]
    },
    {
     "data": {
      "image/png": "[encoded data removed]",
      "text/plain": [
       "<Figure size 432x288 with 1 Axes>"
      ]
     },
     "metadata": {
      "needs_background": "light"
     },
     "output_type": "display_data"
    }
   ],
   "source": [
    "## Support Vector Machine (linear kernel function) - w/ hyperparameter (C) tuning. \n",
    "linear_svm = LinearSVC().fit(X_train, y_train)\n",
    "params_svm = {'C': [.0001,.001,.01,.1,1,10,100,1000,10000]}\n",
    "\n",
    "grid_svm = GridSearchCV(linear_svm, params_svm, cv=5, n_jobs=-1,scoring ='roc_auc', return_train_score=True)\n",
    "grid_svm.fit(X_train, y_train)\n",
    "print(\"Best Parameters:\", grid_svm.best_params_)\n",
    "grid_svm_y_pred = grid_svm.predict(X_test)\n",
    "\n",
    "## SVM Metrics\n",
    "print('Precision score: {:.4f}'.format(precision_score(y_test,grid_svm_y_pred)))\n",
    "print('Recall score: {:.4f}'.format(recall_score(y_test,grid_svm_y_pred)))\n",
    "print('Accuracy score: {:.4f}'.format(accuracy_score(y_test,grid_svm_y_pred)))\n",
    "print('F1 score: {:.4f}'.format(f1_score(y_test,grid_svm_y_pred)))\n",
    "\n",
    "grid_svm_AUC = roc_auc_score(y_test, grid_svm_y_pred)  \n",
    "print(\"\\nAUC Index:\", grid_svm_AUC)\n",
    "fpr, tpr, threshold = roc_curve(y_test,  grid_svm_y_pred)\n",
    "plt.plot(fpr,tpr,label=\"auc=\"+str(grid_svm_AUC))\n",
    "plt.legend(loc=5)\n",
    "plt.ylabel('Recall')\n",
    "plt.xlabel('1-specificity')\n",
    "plt.title('ROC Curve')\n",
    "plt.show()"
   ]
  },
  {
   "cell_type": "code",
   "execution_count": 18,
   "metadata": {},
   "outputs": [
    {
     "name": "stdout",
     "output_type": "stream",
     "text": [
      "Best Parameters: {'C': 0.0001, 'gamma': 0.0001}\n",
      "\n",
      "Precision score: 0.0000\n",
      "Recall score: 0.0000\n",
      "Accuracy score: 0.8466\n",
      "F1 score: 0.0000\n",
      "\n",
      "AUC Index: 0.5\n"
     ]
    },
    {
     "name": "stderr",
     "output_type": "stream",
     "text": [
      "/opt/conda/lib/python3.7/site-packages/sklearn/metrics/classification.py:1143: UndefinedMetricWarning: Precision is ill-defined and being set to 0.0 due to no predicted samples.\n",
      "  'precision', 'predicted', average, warn_for)\n",
      "/opt/conda/lib/python3.7/site-packages/sklearn/metrics/classification.py:1143: UndefinedMetricWarning: F-score is ill-defined and being set to 0.0 due to no predicted samples.\n",
      "  'precision', 'predicted', average, warn_for)\n"
     ]
    },
    {
     "data": {
      "image/png": "[encoded data removed]",
      "text/plain": [
       "<Figure size 432x288 with 1 Axes>"
      ]
     },
     "metadata": {
      "needs_background": "light"
     },
     "output_type": "display_data"
    }
   ],
   "source": [
    "## Support Vector Machine (rbf/exp kernel function) - w/ hyperparameter (C and gamma) tuning. \n",
    "svm_kernel = SVC(kernel = 'rbf')\n",
    "\n",
    "param_svm_kernel = {'C': [.0001,.001,.01,.1,1,10,100,1000,10000], 'gamma':[.0001,.001,.01,.1,1,10,100,1000,10000]}\n",
    "\n",
    "grid_svm_kernel = GridSearchCV(svm_kernel, param_svm_kernel, cv=5, n_jobs=-1, scoring='roc_auc')\n",
    "grid_svm_kernel.fit(X_train, y_train)\n",
    "\n",
    "print(\"Best Parameters:\", grid_svm_kernel.best_params_)\n",
    "grid_rbf_svm_y_pred = grid_svm_kernel.predict(X_test)\n",
    "\n",
    "## rbf SVM Metrics\n",
    "print('\\nPrecision score: {:.4f}'.format(precision_score(y_test,grid_rbf_svm_y_pred)))\n",
    "print('Recall score: {:.4f}'.format(recall_score(y_test,grid_rbf_svm_y_pred)))\n",
    "print('Accuracy score: {:.4f}'.format(accuracy_score(y_test,grid_rbf_svm_y_pred)))\n",
    "print('F1 score: {:.4f}'.format(f1_score(y_test,grid_rbf_svm_y_pred)))\n",
    "\n",
    "grid_rbf_svm_AUC = roc_auc_score(y_test, grid_rbf_svm_y_pred)\n",
    "print(\"\\nAUC Index:\", grid_rbf_svm_AUC)\n",
    "fpr, tpr, threshold = roc_curve(y_test,  grid_rbf_svm_y_pred)\n",
    "plt.plot(fpr,tpr,label=\"auc=\"+str(grid_rbf_svm_AUC))\n",
    "plt.legend(loc=5)\n",
    "plt.ylabel('Recall')\n",
    "plt.xlabel('1-specificity')\n",
    "plt.title('ROC Curve')\n",
    "plt.show()"
   ]
  }
 ],
 "metadata": {
  "kernelspec": {
   "display_name": "Python 3",
   "language": "python",
   "name": "python3"
  },
  "language_info": {
   "codemirror_mode": {
    "name": "ipython",
    "version": 3
   },
   "file_extension": ".py",
   "mimetype": "text/x-python",
   "name": "python",
   "nbconvert_exporter": "python",
   "pygments_lexer": "ipython3",
   "version": "3.7.3"
  }
 },
 "nbformat": 4,
 "nbformat_minor": 4
}
